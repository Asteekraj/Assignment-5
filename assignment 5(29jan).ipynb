{
 "cells": [
  {
   "cell_type": "markdown",
   "id": "8acedc73-8dd0-454c-a167-d6ea50860803",
   "metadata": {},
   "source": [
    "1. Who developed Python Programming Language?"
   ]
  },
  {
   "cell_type": "markdown",
   "id": "00f36b20-60f6-4a51-8996-14b45757b4dd",
   "metadata": {},
   "source": [
    "Ans: Python was created by Guido van Rossum, and first released on February 20, 1991."
   ]
  },
  {
   "cell_type": "markdown",
   "id": "14f4f58f-037f-4d0f-abc0-368b0098794e",
   "metadata": {},
   "source": [
    "2. Which type of Programming does Python support?"
   ]
  },
  {
   "cell_type": "markdown",
   "id": "f5e92c73-f0fc-4d42-988b-500f19758240",
   "metadata": {},
   "source": [
    "Ans: Python support three programming paradigms: Imperative, Functional, and Object-Oriented Programming."
   ]
  },
  {
   "cell_type": "markdown",
   "id": "f2388216-9012-4284-9315-195d0fe58187",
   "metadata": {},
   "source": [
    "3. Is Python case sensitive when dealing with identifiers?"
   ]
  },
  {
   "cell_type": "markdown",
   "id": "bced40df-6042-4fdf-83cd-e87702ab8cb5",
   "metadata": {},
   "source": [
    "Ans: Yes, Python is a case-sensitive language, i.e., it treats uppercase and lowercase characters differently. This applies to identifiers too."
   ]
  },
  {
   "cell_type": "markdown",
   "id": "b7fb977d-56b2-4bcc-a283-b703a6e0b5bf",
   "metadata": {},
   "source": [
    " 4. What is the correct extension of the Python file?"
   ]
  },
  {
   "cell_type": "markdown",
   "id": "a4b4adf9-8e1c-4c74-8f5b-73d87fc6807b",
   "metadata": {},
   "source": [
    "Ans: Python correct extension is .py and others are like :  .pyi, .pyc, .pyd, .pyo, .pyw, and .pyz"
   ]
  },
  {
   "cell_type": "markdown",
   "id": "78cbf9e7-c8ec-42f4-8377-c493ec1b1d68",
   "metadata": {},
   "source": [
    "5. Is Python code compiled or interpreted?"
   ]
  },
  {
   "cell_type": "markdown",
   "id": "0612dd7c-ed51-4b02-895c-1b98422acaaa",
   "metadata": {},
   "source": [
    "Ans: Python code is interpreted means the source code of a Python program is converted into bytecode that is then executed by the Python virtual machine.\n"
   ]
  },
  {
   "cell_type": "markdown",
   "id": "c361ef21-1e7c-4850-9e1c-b9a673ace8b1",
   "metadata": {},
   "source": [
    "6. Name a few blocks of code used to define in Python language?"
   ]
  },
  {
   "cell_type": "markdown",
   "id": "220c7a46-091a-480e-896c-ca817a511243",
   "metadata": {},
   "source": [
    "Ans: There are blocks of python code named a module, a function body, and a class definition."
   ]
  },
  {
   "cell_type": "markdown",
   "id": "b96dbe11-f108-44c8-9719-be89157def67",
   "metadata": {},
   "source": [
    "7. State a character used to give single-line comments in Python?"
   ]
  },
  {
   "cell_type": "markdown",
   "id": "370afeea-71b6-48ce-8af3-9b473ff7656b",
   "metadata": {},
   "source": [
    "Ans: For single line comment we use # character."
   ]
  },
  {
   "cell_type": "markdown",
   "id": "363cd92a-79b6-43e6-abc1-4476afb8428b",
   "metadata": {},
   "source": [
    "8. Mention functions which can help us to find the version of python that we are currently working on?"
   ]
  },
  {
   "cell_type": "markdown",
   "id": "ed0b83fd-4c79-4cd1-bfb6-1ec5f3e9a2be",
   "metadata": {},
   "source": [
    "Ans: To know the version of python we use function sys.version"
   ]
  },
  {
   "cell_type": "markdown",
   "id": "ecc61a42-c0bc-4140-a308-591b21078068",
   "metadata": {},
   "source": [
    "9. Python supports the creation of anonymous functions at runtime, using a construct called ______\n"
   ]
  },
  {
   "cell_type": "markdown",
   "id": "b420c7d7-f5a8-4fa0-8455-78578c9ce0e6",
   "metadata": {},
   "source": [
    "Ans: Lambda"
   ]
  },
  {
   "cell_type": "markdown",
   "id": "0afc486e-2b4d-4281-bca5-75ebbc0f0f46",
   "metadata": {},
   "source": [
    "10. What does pip stand for python?"
   ]
  },
  {
   "cell_type": "markdown",
   "id": "3dd9edb7-55ad-46b6-b8ee-675cb2b76ab7",
   "metadata": {},
   "source": [
    "Ans: PIP = “preferred installer program” or “Pip Installs Packages.” "
   ]
  },
  {
   "cell_type": "markdown",
   "id": "9669ea0f-bff8-4380-b990-ae192aa11cd4",
   "metadata": {},
   "source": [
    "11. Mention a few built-in functions in python?"
   ]
  },
  {
   "cell_type": "markdown",
   "id": "e37a4c51-3cff-4e3d-8d6f-f0ded8c8bac3",
   "metadata": {},
   "source": [
    "Ans: There are many but some built-in functions in Python are len(), str(), int(), float(), range(), max(), min(), sum(), sorted(), and type()"
   ]
  },
  {
   "cell_type": "markdown",
   "id": "3fc25c85-9831-49ae-a536-9e9827aa6da5",
   "metadata": {},
   "source": [
    "12. What is the maximum possible length of an identifier in Python?"
   ]
  },
  {
   "cell_type": "markdown",
   "id": "df2df196-e9d5-4762-87b2-c8ef066e7efe",
   "metadata": {},
   "source": [
    "Ans: An identifier can have a maximum length of 79 characters in Python."
   ]
  },
  {
   "cell_type": "markdown",
   "id": "f6ee9bc0-9989-426b-88fb-79b0e136e9a4",
   "metadata": {},
   "source": [
    "13. What are the benefits of using Python?"
   ]
  },
  {
   "cell_type": "markdown",
   "id": "e1088ff6-2107-4471-b71e-b3d89531da70",
   "metadata": {},
   "source": [
    "Ans: Benefits of python are : Easy to code, Easy to read, Free and open source, Robust standard library, Interpreted etc"
   ]
  },
  {
   "cell_type": "markdown",
   "id": "f8cd8a4c-bdab-434c-bfdb-939966d62689",
   "metadata": {},
   "source": [
    "14. How is memory managed in Python?"
   ]
  },
  {
   "cell_type": "markdown",
   "id": "70e3dda1-3850-4b4c-834b-18e360819990",
   "metadata": {},
   "source": [
    "Ans: Memory management in Python involves the management of a private heap. A private heap is a portion of memory that is exclusive to the Python process. All Python objects and data structures are stored in the private heap. The operating system cannot allocate this piece of memory to another process."
   ]
  },
  {
   "cell_type": "markdown",
   "id": "2f22d7e3-0089-4b9b-a0af-49fe3e22c243",
   "metadata": {},
   "source": [
    "15. How to install Python on Windows and set path variables?"
   ]
  },
  {
   "cell_type": "markdown",
   "id": "71a7b000-9de1-4eb4-8c06-282c15a2f2a4",
   "metadata": {},
   "source": [
    "Ans: First download the newest version of python from www.python.org and then install python.exe and futher add to the path.\n",
    "The complete path of python.exe can be added by:\n",
    "\n",
    "Right-clicking This PC and going to Properties.\n",
    "\n",
    "Clicking on the Advanced system settings in the menu on the left.\n",
    "\n",
    "Clicking on the Environment Variables button o​n the bottom right.\n",
    "\n",
    "In the System variables section, selecting the Path variable and clicking on Edit. The next screen will show all the directories that are currently a part of the PATH variable.\n",
    "\n",
    "Clicking on New and entering Python’s install directory."
   ]
  },
  {
   "cell_type": "markdown",
   "id": "360c0c74-73f3-4658-8a9f-7f87d91bda89",
   "metadata": {},
   "source": [
    "16. Is indentation required in python?"
   ]
  },
  {
   "cell_type": "markdown",
   "id": "75e9c025-2045-4fcd-836a-a88c3a2f34ad",
   "metadata": {},
   "source": [
    "Ans: Yes, identation is very much required in python."
   ]
  },
  {
   "cell_type": "code",
   "execution_count": null,
   "id": "9c1c99ca-d335-4825-af79-f607b4757d7e",
   "metadata": {},
   "outputs": [],
   "source": []
  }
 ],
 "metadata": {
  "kernelspec": {
   "display_name": "Python 3 (ipykernel)",
   "language": "python",
   "name": "python3"
  },
  "language_info": {
   "codemirror_mode": {
    "name": "ipython",
    "version": 3
   },
   "file_extension": ".py",
   "mimetype": "text/x-python",
   "name": "python",
   "nbconvert_exporter": "python",
   "pygments_lexer": "ipython3",
   "version": "3.10.8"
  }
 },
 "nbformat": 4,
 "nbformat_minor": 5
}
